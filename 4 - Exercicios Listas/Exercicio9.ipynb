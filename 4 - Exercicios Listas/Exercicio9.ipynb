{
 "cells": [
  {
   "attachments": {},
   "cell_type": "markdown",
   "id": "933ac37e",
   "metadata": {},
   "source": [
    "Faça um Programa que leia um vetor A com 10 números inteiros, \n",
    "calcule e mostre a soma dos quadrados dos elementos do vetor."
   ]
  },
  {
   "cell_type": "code",
   "execution_count": 4,
   "id": "fe364f6a",
   "metadata": {},
   "outputs": [
    {
     "name": "stdout",
     "output_type": "stream",
     "text": [
      "1\n",
      "4\n",
      "9\n",
      "16\n",
      "25\n",
      "36\n",
      "49\n",
      "64\n",
      "81\n",
      "100\n",
      "385\n"
     ]
    }
   ],
   "source": [
    "a = [1 , 2, 3, 4, 5, 6, 7, 8, 9, 10]\n",
    "soma = 0\n",
    "a = [i**2 for i in a]\n",
    "\n",
    "for i in a:\n",
    "    print(i)\n",
    "    soma += i\n",
    "\n",
    "print(soma)   \n"
   ]
  },
  {
   "cell_type": "code",
   "execution_count": null,
   "id": "f6ad25f5",
   "metadata": {},
   "outputs": [],
   "source": []
  }
 ],
 "metadata": {
  "kernelspec": {
   "display_name": "Python 3 (ipykernel)",
   "language": "python",
   "name": "python3"
  },
  "language_info": {
   "codemirror_mode": {
    "name": "ipython",
    "version": 3
   },
   "file_extension": ".py",
   "mimetype": "text/x-python",
   "name": "python",
   "nbconvert_exporter": "python",
   "pygments_lexer": "ipython3",
   "version": "3.9.13"
  }
 },
 "nbformat": 4,
 "nbformat_minor": 5
}
