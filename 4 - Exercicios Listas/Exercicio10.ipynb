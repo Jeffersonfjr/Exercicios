{
 "cells": [
  {
   "cell_type": "markdown",
   "id": "09d7a407",
   "metadata": {},
   "source": [
    "Faça um Programa que leia dois vetores com 10 elementos cada. \n",
    "Gere um terceiro vetor de 20 elementos, cujos valores deverão ser compostos pelos elementos\n",
    "intercalados dos dois outros vetores.\n"
   ]
  },
  {
   "cell_type": "code",
   "execution_count": 2,
   "id": "73b4dacb",
   "metadata": {},
   "outputs": [],
   "source": [
    "lista_impar = [1, 3, 5, 7, 9, 11, 13, 15, 17, 19]\n",
    "lista_par = [2, 4, 6, 8, 10, 12, 14, 16, 18, 20]\n",
    "lista_total = []"
   ]
  },
  {
   "cell_type": "code",
   "execution_count": 10,
   "id": "ff26166e",
   "metadata": {},
   "outputs": [
    {
     "name": "stdout",
     "output_type": "stream",
     "text": [
      "[1, 2, 3, 4, 5, 6, 7, 8, 9, 10, 11, 12, 13, 14, 15, 16, 17, 18, 19, 20]\n"
     ]
    }
   ],
   "source": [
    "for n1 , n2 in zip(lista_impar,lista_par):\n",
    "    lista_total.append(n1)\n",
    "    lista_total.append(n2)\n",
    "    \n",
    "print(lista_total)"
   ]
  },
  {
   "cell_type": "code",
   "execution_count": null,
   "id": "4134e2d3",
   "metadata": {},
   "outputs": [],
   "source": []
  }
 ],
 "metadata": {
  "kernelspec": {
   "display_name": "Python 3 (ipykernel)",
   "language": "python",
   "name": "python3"
  },
  "language_info": {
   "codemirror_mode": {
    "name": "ipython",
    "version": 3
   },
   "file_extension": ".py",
   "mimetype": "text/x-python",
   "name": "python",
   "nbconvert_exporter": "python",
   "pygments_lexer": "ipython3",
   "version": "3.9.13"
  }
 },
 "nbformat": 4,
 "nbformat_minor": 5
}
