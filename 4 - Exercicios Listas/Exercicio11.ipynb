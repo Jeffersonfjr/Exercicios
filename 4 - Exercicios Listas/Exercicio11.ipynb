{
 "cells": [
  {
   "cell_type": "markdown",
   "id": "6b2953bd",
   "metadata": {},
   "source": [
    "Altere o programa anterior, intercalando 3 vetores de 10 elementos cada.\n"
   ]
  },
  {
   "cell_type": "code",
   "execution_count": null,
   "id": "baa6a5f0",
   "metadata": {},
   "outputs": [],
   "source": [
    "lista_impar = [1, 3, 5, 7, 9, 11, 13, 15, 17, 19]\n",
    "lista_par = [2, 4, 6, 8, 10, 12, 14, 16, 18, 20]\n",
    "lista_total = []"
   ]
  },
  {
   "cell_type": "code",
   "execution_count": null,
   "id": "0d99f73b",
   "metadata": {},
   "outputs": [],
   "source": [
    "for n1 , n2 in zip(lista_impar,lista_par):\n",
    "    lista_total.append(n1)\n",
    "    lista_total.append(n2)\n",
    "    \n",
    "print(lista_total)"
   ]
  }
 ],
 "metadata": {
  "kernelspec": {
   "display_name": "Python 3 (ipykernel)",
   "language": "python",
   "name": "python3"
  },
  "language_info": {
   "codemirror_mode": {
    "name": "ipython",
    "version": 3
   },
   "file_extension": ".py",
   "mimetype": "text/x-python",
   "name": "python",
   "nbconvert_exporter": "python",
   "pygments_lexer": "ipython3",
   "version": "3.9.13"
  }
 },
 "nbformat": 4,
 "nbformat_minor": 5
}
