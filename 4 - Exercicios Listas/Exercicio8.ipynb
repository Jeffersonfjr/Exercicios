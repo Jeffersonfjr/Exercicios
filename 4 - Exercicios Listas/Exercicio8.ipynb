{
 "cells": [
  {
   "attachments": {},
   "cell_type": "markdown",
   "id": "08f423ea",
   "metadata": {},
   "source": [
    "Faça um Programa que peça a idade e a altura de 5 pessoas, armazene cada informação no seu respectivo vetor. Imprima a idade e a altura na ordem inversa a ordem lida."
   ]
  },
  {
   "cell_type": "code",
   "execution_count": 38,
   "id": "44f148d7",
   "metadata": {},
   "outputs": [
    {
     "name": "stdout",
     "output_type": "stream",
     "text": [
      "\n",
      "Difite sua altura: 10\n",
      "Digite sua idade: 10\n",
      "\n",
      "Difite sua altura: 20\n",
      "Digite sua idade: 20\n",
      "\n",
      "Difite sua altura: 30\n",
      "Digite sua idade: 30\n",
      "\n",
      "Difite sua altura: 40\n",
      "Digite sua idade: 40\n",
      "\n",
      "Difite sua altura: 50\n",
      "Digite sua idade: 50\n"
     ]
    }
   ],
   "source": [
    "# Com dicionario\n",
    "contador = 0\n",
    "dicionario = {}\n",
    "\n",
    "while True:\n",
    "    contador += 1\n",
    "    altura = int(input('\\nDifite sua altura: '))\n",
    "    idade = int(input('Digite sua idade: '))\n",
    "    dicionario.update({contador:(altura,idade)})\n",
    "    \n",
    "    if contador == 5:\n",
    "        break\n"
   ]
  },
  {
   "cell_type": "code",
   "execution_count": 39,
   "id": "658abab4",
   "metadata": {},
   "outputs": [
    {
     "name": "stdout",
     "output_type": "stream",
     "text": [
      "(50, 50)\n",
      "(40, 40)\n",
      "(30, 30)\n",
      "(20, 20)\n",
      "(10, 10)\n"
     ]
    }
   ],
   "source": [
    "for i in range(contador,0,-1):\n",
    "    print(dicionario[i])"
   ]
  },
  {
   "cell_type": "code",
   "execution_count": 41,
   "id": "5273a9cf",
   "metadata": {},
   "outputs": [
    {
     "name": "stdout",
     "output_type": "stream",
     "text": [
      "\n",
      "Difite sua altura: 10\n",
      "Digite sua idade: 10\n",
      "\n",
      "Difite sua altura: 20\n",
      "Digite sua idade: 2\n",
      "\n",
      "Difite sua altura: 30\n",
      "Digite sua idade: 30\n",
      "\n",
      "Difite sua altura: 40\n",
      "Digite sua idade: 40\n",
      "\n",
      "Difite sua altura: 50\n",
      "Digite sua idade: 50\n",
      "(50, 50)\n",
      "(40, 40)\n",
      "(30, 30)\n",
      "(20, 2)\n",
      "(10, 10)\n"
     ]
    }
   ],
   "source": [
    "# com lista\n",
    "\n",
    "list_alt = []\n",
    "contador = 0\n",
    "\n",
    "\n",
    "while True:\n",
    "    contador += 1\n",
    "    altura = int(input('\\nDifite sua altura: '))\n",
    "    idade = int(input('Digite sua idade: '))\n",
    "    valor = (altura,idade)\n",
    "    list_alt.append(valor)\n",
    "    \n",
    "    if contador == 5:\n",
    "        break\n",
    "for i in list_alt[::-1]:\n",
    "    print(i)"
   ]
  },
  {
   "cell_type": "code",
   "execution_count": null,
   "id": "edb6ca61",
   "metadata": {},
   "outputs": [],
   "source": []
  }
 ],
 "metadata": {
  "kernelspec": {
   "display_name": "Python 3 (ipykernel)",
   "language": "python",
   "name": "python3"
  },
  "language_info": {
   "codemirror_mode": {
    "name": "ipython",
    "version": 3
   },
   "file_extension": ".py",
   "mimetype": "text/x-python",
   "name": "python",
   "nbconvert_exporter": "python",
   "pygments_lexer": "ipython3",
   "version": "3.9.13"
  }
 },
 "nbformat": 4,
 "nbformat_minor": 5
}
