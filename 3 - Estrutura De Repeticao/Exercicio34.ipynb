{
 "cells": [
  {
   "attachments": {},
   "cell_type": "markdown",
   "id": "11725855",
   "metadata": {},
   "source": [
    "Os números primos possuem várias aplicações dentro da Computação, por exemplo na Criptografia. Um número primo é aquele que é divisível apenas por um e por ele mesmo. Faça um programa que peça um número inteiro e determine se ele é ou não um número primo."
   ]
  },
  {
   "cell_type": "code",
   "execution_count": 50,
   "id": "7ddf9234",
   "metadata": {},
   "outputs": [
    {
     "name": "stdout",
     "output_type": "stream",
     "text": [
      "Digite um numero: 2\n",
      "O Numero é primo\n"
     ]
    }
   ],
   "source": [
    "def primo(x):\n",
    "    for i in range(2, x):\n",
    "        if x == 2:\n",
    "            return 0\n",
    "        if x == i:\n",
    "            continue\n",
    "        if (x % i) == 0:\n",
    "            return 1\n",
    "\n",
    "    return 0\n",
    "\n",
    "\n",
    "numero = int(input(\"Digite um numero: \"))\n",
    "\n",
    "\n",
    "if primo(numero) == 1:\n",
    "    print('O Numero não é primo')\n",
    "if primo(numero) == 0:\n",
    "    print('O Numero é primo')"
   ]
  },
  {
   "cell_type": "code",
   "execution_count": null,
   "id": "08fb3b4b",
   "metadata": {},
   "outputs": [],
   "source": []
  },
  {
   "cell_type": "code",
   "execution_count": null,
   "id": "cdcd4838",
   "metadata": {},
   "outputs": [],
   "source": []
  }
 ],
 "metadata": {
  "kernelspec": {
   "display_name": "Python 3 (ipykernel)",
   "language": "python",
   "name": "python3"
  },
  "language_info": {
   "codemirror_mode": {
    "name": "ipython",
    "version": 3
   },
   "file_extension": ".py",
   "mimetype": "text/x-python",
   "name": "python",
   "nbconvert_exporter": "python",
   "pygments_lexer": "ipython3",
   "version": "3.9.13"
  }
 },
 "nbformat": 4,
 "nbformat_minor": 5
}
