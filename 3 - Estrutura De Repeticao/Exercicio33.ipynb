{
 "cells": [
  {
   "cell_type": "markdown",
   "id": "7b79581a",
   "metadata": {},
   "source": [
    "O Departamento Estadual de Meteorologia lhe contratou para desenvolver um programa que leia as um conjunto \n",
    "indeterminado de temperaturas, e informe ao final a menor e a maior temperaturas informadas, \n",
    "bem como a média das temperaturas."
   ]
  },
  {
   "cell_type": "code",
   "execution_count": 17,
   "id": "dfb1645d",
   "metadata": {},
   "outputs": [
    {
     "name": "stdout",
     "output_type": "stream",
     "text": [
      "Por favor digite a temperatura desejada: 15\n",
      "Há mais algum valor a acrescentar?\n",
      "[1]Sim\n",
      "[2]Não\n",
      "1\n",
      "Por favor digite a temperatura desejada: 20\n",
      "Há mais algum valor a acrescentar?\n",
      "[1]Sim\n",
      "[2]Não\n",
      "1\n",
      "Por favor digite a temperatura desejada: 25\n",
      "Há mais algum valor a acrescentar?\n",
      "[1]Sim\n",
      "[2]Não\n",
      "1\n",
      "Por favor digite a temperatura desejada: 30\n",
      "Há mais algum valor a acrescentar?\n",
      "[1]Sim\n",
      "[2]Não\n",
      "2\n",
      "15.0\n",
      "20.0\n",
      "25.0\n",
      "30.0\n"
     ]
    }
   ],
   "source": [
    "\n",
    "list_temp = []\n",
    "\n",
    "temperatura = 0\n",
    "\n",
    "while True:\n",
    "    temperatura = input('Por favor digite a temperatura desejada: ')\n",
    "    \n",
    "    if not temperatura.isnumeric:\n",
    "        print('Por favor digite um valor valido')\n",
    "        continue\n",
    "    else:\n",
    "        temperatura = float(temperatura)\n",
    "    \n",
    "    list_temp.append(temperatura)\n",
    "    \n",
    "    exit = int(input('Há mais algum valor a acrescentar?\\n' \n",
    "                  '[1]Sim\\n[2]Não\\n'))\n",
    "    \n",
    "    if exit == '':\n",
    "        \n",
    "    if exit == 2:\n",
    "        break\n",
    "\n",
    "for i in list_temp:\n",
    "    print(i)"
   ]
  },
  {
   "cell_type": "code",
   "execution_count": 21,
   "id": "db6f01ad",
   "metadata": {},
   "outputs": [
    {
     "name": "stdout",
     "output_type": "stream",
     "text": [
      "A maior temperatura é 30.0\n",
      "A menor temperatura é 15.0\n"
     ]
    }
   ],
   "source": [
    "print(f'A maior temperatura é {max(list_temp,key=float)}')\n",
    "print(f'A menor temperatura é {min(list_temp,key=float)}')"
   ]
  },
  {
   "cell_type": "code",
   "execution_count": null,
   "id": "ff2de356",
   "metadata": {},
   "outputs": [],
   "source": []
  }
 ],
 "metadata": {
  "kernelspec": {
   "display_name": "Python 3 (ipykernel)",
   "language": "python",
   "name": "python3"
  },
  "language_info": {
   "codemirror_mode": {
    "name": "ipython",
    "version": 3
   },
   "file_extension": ".py",
   "mimetype": "text/x-python",
   "name": "python",
   "nbconvert_exporter": "python",
   "pygments_lexer": "ipython3",
   "version": "3.9.13"
  }
 },
 "nbformat": 4,
 "nbformat_minor": 5
}
